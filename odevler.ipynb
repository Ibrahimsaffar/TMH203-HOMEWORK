{
 "cells": [
  {
   "cell_type": "markdown",
   "id": "94a4e475-7086-40cf-834f-b664c2a6c5f2",
   "metadata": {},
   "source": [
    "### 2.HAFTA ÖDEVLERİ"
   ]
  },
  {
   "cell_type": "markdown",
   "id": "b29d69ec-e43c-4970-8752-e9a2c28d0deb",
   "metadata": {},
   "source": [
    "## 1.problam :doğum gününü detaylı hesaplamak"
   ]
  },
  {
   "cell_type": "code",
   "execution_count": 24,
   "id": "ecef9c15-f36b-4e74-84e0-a852988c4486",
   "metadata": {
    "tags": []
   },
   "outputs": [
    {
     "name": "stdout",
     "output_type": "stream",
     "text": [
      "bugünün tarih detaylarını giriniz\n"
     ]
    },
    {
     "name": "stdin",
     "output_type": "stream",
     "text": [
      "gün giriniz: 12\n",
      "ay giriniz: 10\n",
      "yil giriniz: 2021\n"
     ]
    },
    {
     "name": "stdout",
     "output_type": "stream",
     "text": [
      "doğum gününüzün detaylarını giriniz\n"
     ]
    },
    {
     "name": "stdin",
     "output_type": "stream",
     "text": [
      "doğum gününüzün gün'ünü giriniz: 9\n",
      "doğum gününüzün ay'ını giriniz: 7\n",
      "doğum gününüzün yıl'ını giriniz: 2000\n"
     ]
    },
    {
     "name": "stdout",
     "output_type": "stream",
     "text": [
      "yaşadıgınz gün sayısı: 3\n",
      "yaşadıgınz ay sayısı: 3\n",
      "yaşadıgınz yil sayısı: 21\n"
     ]
    }
   ],
   "source": [
    "print(\"bugünün tarih detaylarını giriniz\")\n",
    "gun=int(input(\"gün giriniz:\"))\n",
    "ay=int(input(\"ay giriniz:\"))\n",
    "yil=int(input(\"yil giriniz:\"))\n",
    "print(\"doğum gününüzün detaylarını giriniz\")\n",
    "dogumgun=int(input(\"doğum gününüzün gün'ünü giriniz:\"))\n",
    "dogumay=int(input(\"doğum gününüzün ay'ını giriniz:\"))\n",
    "dogumyil=int(input(\"doğum gününüzün yıl'ını giriniz:\"))\n",
    "x=gun-dogumgun\n",
    "if x<0:\n",
    "    x=x*-1\n",
    "print(\"yaşadıgınz gün sayısı:\",x)\n",
    "y=ay-dogumay\n",
    "if y<0:\n",
    "    y=y*-1\n",
    "print(\"yaşadıgınz ay sayısı:\",y)\n",
    "z=yil-dogumyil\n",
    "if z<0:\n",
    "    z=z*-1\n",
    "print(\"yaşadıgınz yil sayısı:\",z)"
   ]
  },
  {
   "cell_type": "markdown",
   "id": "f801d3ba-854f-4cc3-98c5-5914ad47adc4",
   "metadata": {},
   "source": [
    "## 2.problam:kullanıcının girdiği kullanıcı adı ve sifresi  yanlis olup olmadigin öğrenmek"
   ]
  },
  {
   "cell_type": "code",
   "execution_count": 21,
   "id": "b330bc75-a702-4ecf-98d1-74c8fb9bf8ab",
   "metadata": {},
   "outputs": [
    {
     "name": "stdin",
     "output_type": "stream",
     "text": [
      "kullanıcı ad giriniz: ibrahim\n",
      "şifre giriniz: 200097\n"
     ]
    },
    {
     "name": "stdout",
     "output_type": "stream",
     "text": [
      "hosgeldiniz\n"
     ]
    }
   ],
   "source": [
    "kullaniciad=\"ibrahim\"\n",
    "sifre=200097\n",
    "x=input(\"kullanıcı ad giriniz:\")\n",
    "y=int(input(\"şifre giriniz:\"))\n",
    "if ((x==kullaniciad) and (y==sifre)):\n",
    "    print(\"hosgeldiniz\")\n",
    "elif ((x==kullaniciad) and (y!=sifre)):\n",
    "    print(\"sifre yanlis\")\n",
    "elif ((x!=kullaniciad) and (y==sifre)):\n",
    "    print(\"kullanici ad yanlis\")\n",
    "else:\n",
    "    print(\"tekrar deneyin\")"
   ]
  },
  {
   "cell_type": "markdown",
   "id": "34054ac9-e679-46cc-bc61-5f22792cd150",
   "metadata": {},
   "source": [
    "## 3.problam:ehliyet almak"
   ]
  },
  {
   "cell_type": "code",
   "execution_count": 19,
   "id": "f574ad70-f34e-4e12-9f1a-b58c37ac9dcb",
   "metadata": {},
   "outputs": [
    {
     "name": "stdin",
     "output_type": "stream",
     "text": [
      "yaşınızı giriniz: 70\n"
     ]
    },
    {
     "name": "stdout",
     "output_type": "stream",
     "text": [
      "ehliyet alabilirsinz\n"
     ]
    }
   ],
   "source": [
    "yas=int(input(\"yaşınızı giriniz:\"))\n",
    "if yas<18:\n",
    "    print(\"ehliyet almzsiniz\")\n",
    "elif yas>=18:\n",
    "    print(\"ehliyet alabilirsinz\")"
   ]
  },
  {
   "cell_type": "code",
   "execution_count": null,
   "id": "cf102632-3030-4245-a97d-94f88af28bed",
   "metadata": {},
   "outputs": [],
   "source": []
  },
  {
   "cell_type": "code",
   "execution_count": null,
   "id": "287db560-e968-47fd-b045-6e9afcc40d02",
   "metadata": {},
   "outputs": [],
   "source": []
  }
 ],
 "metadata": {
  "kernelspec": {
   "display_name": "Python 3",
   "language": "python",
   "name": "python3"
  },
  "language_info": {
   "codemirror_mode": {
    "name": "ipython",
    "version": 3
   },
   "file_extension": ".py",
   "mimetype": "text/x-python",
   "name": "python",
   "nbconvert_exporter": "python",
   "pygments_lexer": "ipython3",
   "version": "3.8.8"
  }
 },
 "nbformat": 4,
 "nbformat_minor": 5
}
